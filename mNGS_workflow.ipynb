{
 "cells": [
  {
   "cell_type": "markdown",
   "id": "e03aa01f-296b-45b5-b246-472983c91a05",
   "metadata": {},
   "source": [
    "# data fetch\n",
    "workdir=~/workspace/mNGS/data\n",
    "cd $workdir\n",
    "# hg19\n",
    "wget -c ftp://hgdownload.cse.ucsc.edu/goldenPath/hg19/bigZips/chromFa.tar.gz\n",
    "tar -zxvf chromFa.tar.gz\n",
    "cat chr*.fa > hg19.fa\n",
    "\n",
    "# zymo\n",
    "prefetch SRR27174691\n",
    "fastq-dump --gzip --split-files SRR27174691.sra\n",
    "\n",
    "# in silico seq simulation using human genome\n",
    "seed=202406\n",
    "wgsim -d 400 -N 18000000 -1 100 -2 100 -S $seed hg19.fa human.R1.fq human.R2.fastq\n",
    "# `$seed` is a random value which usually use date. so here use 202406\n",
    "\n",
    "zymo=${workdir}/sra/SRR27174691/SRR27174691\n",
    "seqtk sample -s $seed ${zymo}_1.fastq.gz 2000000 > zymo.sample.R1.fq\n",
    "seqtk sample -s $seed ${zymo}_2.fastq.gz 2000000 > zymo.sample.R2.fq\n"
   ]
  },
  {
   "cell_type": "code",
   "execution_count": 2,
   "id": "f3fe6413-8f5c-42b3-9272-86da271ebb70",
   "metadata": {},
   "outputs": [
    {
     "ename": "SyntaxError",
     "evalue": "invalid syntax (1302630448.py, line 2)",
     "output_type": "error",
     "traceback": [
      "\u001b[0;36m  Cell \u001b[0;32mIn[2], line 2\u001b[0;36m\u001b[0m\n\u001b[0;31m    REFDIR=${WORKDIR}/reference\u001b[0m\n\u001b[0m           ^\u001b[0m\n\u001b[0;31mSyntaxError\u001b[0m\u001b[0;31m:\u001b[0m invalid syntax\n"
     ]
    }
   ],
   "source": [
    "! WORKDIR=~/workspace/mNGS/data\n",
    "! REFDIR=${WORKDIR}/reference\n",
    "! repFile=${WORKDIR}/simdata_bacteria/report\n",
    "! DB=kraken2_db"
   ]
  },
  {
   "cell_type": "code",
   "execution_count": null,
   "id": "8534b113-ac3c-418b-8866-498bba79bdbe",
   "metadata": {},
   "outputs": [],
   "source": [
    "! for i in `ls simdata_bacteria/*host_rm*`\n",
    "do\n",
    "echo $i\n",
    "    kraken2 --db ${DB} --threads 24 ${WORKDIR}/${i} \\\n",
    "    --output ${repFile}/${i%.host*}_output.kraken --report ${repFile}/${i%.host*}.kreport\n",
    "done"
   ]
  },
  {
   "cell_type": "code",
   "execution_count": null,
   "id": "c9fed646-ee23-4f84-8aea-b8b0b82b3324",
   "metadata": {},
   "outputs": [],
   "source": [
    "kraken2 --db kraken2_db --threads 24 --paired simdata_bacteria/merge_all.R1.fastq simdata_bacteria/merge_all.R2.fastq --output merge.output --report merge.clean.kreport "
   ]
  },
  {
   "cell_type": "code",
   "execution_count": null,
   "id": "3a0fa744-858d-4ebb-b7cd-974ea6766373",
   "metadata": {},
   "outputs": [],
   "source": [
    "bracken  -i  merge.clean.kreport -d $DB -o  merge.kreport.bracken -w merge.bracken.report -t 8"
   ]
  },
  {
   "cell_type": "code",
   "execution_count": 5,
   "id": "39606739-b4e9-4659-ad57-ddee25304445",
   "metadata": {},
   "outputs": [
    {
     "name": "stdout",
     "output_type": "stream",
     "text": [
      "Found classification ID 3122075, reads ID: K450014659L1C001R03901109040\n",
      "Found classification ID 3122075, reads ID: K450014659L1C001R04900698877\n",
      "Found classification ID 119219, reads ID: K450014659L1C001R04901266866\n",
      "Found classification ID 3122075, reads ID: K450014659L1C001R05301189174\n",
      "Found classification ID 190721, reads ID: K450014659L1C002R01401168011\n",
      "Found classification ID 119219, reads ID: K450014659L1C002R01900782176\n",
      "Found classification ID 190721, reads ID: K450014659L1C002R02900316607\n",
      "Found classification ID 119219, reads ID: K450014659L1C002R03001418364\n",
      "Found classification ID 119219, reads ID: K450014659L1C002R03301091073\n",
      "Found classification ID 119219, reads ID: K450014659L1C002R03400963522\n",
      "Found classification ID 119219, reads ID: K450014659L1C002R03501222687\n",
      "Found classification ID 119219, reads ID: K450014659L1C002R03701398624\n",
      "Found classification ID 119219, reads ID: K450014659L1C002R04101087823\n",
      "Found classification ID 119219, reads ID: K450014659L1C002R05200117058\n",
      "Found classification ID 119219, reads ID: K450014659L1C003R02900904381\n",
      "Found classification ID 3122075, reads ID: K450014659L1C003R03300950224\n",
      "Found classification ID 190721, reads ID: K450014659L1C003R03400114112\n",
      "Found classification ID 190721, reads ID: K450014659L1C003R03900077069\n",
      "Found classification ID 119219, reads ID: K450014659L1C003R04800696075\n"
     ]
    }
   ],
   "source": [
    "# 指定要查找的分类号列表\n",
    "classification_ids = ['3122075', '190721', '119219', '457921']\n",
    "\n",
    "# 打开Kraken报告文件\n",
    "with open('/home/Lchen/workspace/mNGS/data/blo-20240725_timeopti/upload/report/K450014659_L01_9292.host_rm_k2db.kraken', 'r') as file:\n",
    "    for line in file:\n",
    "        # 去除行尾的换行符并分割行\n",
    "        parts = line.strip().split()\n",
    "        \n",
    "        # 确保行有足够的部分\n",
    "        if len(parts) < 3:\n",
    "            continue  # 如果行不完整，跳过\n",
    "        \n",
    "        # 第二列是reads标识，第三列开始是分类信息\n",
    "        reads_id = parts[1]\n",
    "        \n",
    "        # 从第三列开始，检查每个部分是否包含指定的分类号\n",
    "        for part in parts[2:]:\n",
    "            # 分类信息格式为：\"分类号:覆盖度 时间\"\n",
    "            if ':' in part:\n",
    "                classification, _, _ = part.partition(':')\n",
    "                if classification in classification_ids:\n",
    "                    print(f'Found classification ID {classification}, reads ID: {reads_id}')\n",
    "                    break  # 找到匹配项后，不再继续检查该行的其他部分"
   ]
  },
  {
   "cell_type": "code",
   "execution_count": 6,
   "id": "126b2f8b-b458-4463-b605-dc934ac2b38a",
   "metadata": {},
   "outputs": [
    {
     "name": "stdout",
     "output_type": "stream",
     "text": [
      "Total reads IDs extracted: 19\n"
     ]
    }
   ],
   "source": [
    "\n",
    "classification_ids = ['3122075', '190721', '119219', '457921']\n",
    "\n",
    "extracted_reads_ids = []\n",
    "with open('/home/Lchen/workspace/mNGS/data/blo-20240725_timeopti/upload/report/K450014659_L01_9292.host_rm_k2db.kraken', 'r') as kraken_file, open('reads_ids.txt', 'w') as ids_file:\n",
    "    for line in kraken_file:\n",
    "        parts = line.strip().split()\n",
    "        if len(parts) >= 3:\n",
    "            reads_id = parts[1]\n",
    "            for part in parts[2:]:\n",
    "                if ':' in part:\n",
    "                    classification, _, _ = part.partition(':')\n",
    "                    if classification in classification_ids:\n",
    "                        extracted_reads_ids.append(reads_id)\n",
    "                        ids_file.write(reads_id + '\\n')\n",
    "                        break\n",
    "\n",
    "print(f'Total reads IDs extracted: {len(extracted_reads_ids)}')"
   ]
  },
  {
   "cell_type": "code",
   "execution_count": 7,
   "id": "bac2ce5a-814f-4274-9a8a-6fcfe5f364d2",
   "metadata": {},
   "outputs": [],
   "source": [
    "! seqtk subseq /home/Lchen/workspace/mNGS/data/blo-20240725_timeopti/upload/K450014659_L01_9292.host_rm.R1.fastq.gz reads_ids.txt > extracted_reads.R1.fastq"
   ]
  }
 ],
 "metadata": {
  "kernelspec": {
   "display_name": "Python 3 (ipykernel)",
   "language": "python",
   "name": "python3"
  },
  "language_info": {
   "codemirror_mode": {
    "name": "ipython",
    "version": 3
   },
   "file_extension": ".py",
   "mimetype": "text/x-python",
   "name": "python",
   "nbconvert_exporter": "python",
   "pygments_lexer": "ipython3",
   "version": "3.12.3"
  }
 },
 "nbformat": 4,
 "nbformat_minor": 5
}
